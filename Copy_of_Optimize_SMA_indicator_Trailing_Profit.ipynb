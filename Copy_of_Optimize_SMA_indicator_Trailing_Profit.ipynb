{
  "nbformat": 4,
  "nbformat_minor": 0,
  "metadata": {
    "colab": {
      "provenance": [],
      "include_colab_link": true
    },
    "kernelspec": {
      "name": "python3",
      "display_name": "Python 3"
    },
    "language_info": {
      "name": "python"
    }
  },
  "cells": [
    {
      "cell_type": "markdown",
      "metadata": {
        "id": "view-in-github",
        "colab_type": "text"
      },
      "source": [
        "<a href=\"https://colab.research.google.com/github/weetittle/loopcreativemarty/blob/main/Copy_of_Optimize_SMA_indicator_Trailing_Profit.ipynb\" target=\"_parent\"><img src=\"https://colab.research.google.com/assets/colab-badge.svg\" alt=\"Open In Colab\"/></a>"
      ]
    },
    {
      "cell_type": "code",
      "execution_count": null,
      "metadata": {
        "id": "17PTnlCWQMaR"
      },
      "outputs": [],
      "source": [
        "import numpy as np\n",
        "import pandas as pd\n",
        "import matplotlib.pyplot as plt\n",
        "from dataclasses import dataclass\n",
        "from scipy.stats import bernoulli\n",
        "from itertools import product\n",
        "import random\n",
        "pd.options.mode.chained_assignment = None  # default='warn'\n"
      ]
    },
    {
      "cell_type": "code",
      "source": [
        "@dataclass\n",
        "class Candle:\n",
        "    open: float\n",
        "    high: float\n",
        "    close: float\n",
        "    low: float\n",
        "    index: int\n",
        "\n",
        "@dataclass\n",
        "class Stats:\n",
        "    num_trades: int\n",
        "    win_rate: float\n",
        "    num_wins: int\n",
        "    num_losses: int\n",
        "    perc_return: float\n",
        "    perc_buy_hold_return: float\n",
        "    initial_cash: float\n",
        "    total_profit: float\n",
        "    def __repr__(self) -> str:\n",
        "        return f\"\"\"\n",
        "        Number of Trades: {self.num_trades}\n",
        "        Win Rate: {self.win_rate}%\n",
        "        Return [%] : {self.perc_return}%\n",
        "        Buy and Hold Return [%]: {self.perc_buy_hold_return}%\n",
        "        Total Profit: ${self.total_profit}\n",
        "        Initial Capital: ${self.initial_cash}\n",
        "        Winning Trades: {self.num_wins}\n",
        "        Losing Trades: {self.num_losses}\n",
        "        \"\"\"\n",
        "\n",
        "\n",
        "class Trade:\n",
        "    def __init__(self, buy_price, buy_index, profit_perc, stop_loss_perc, is_trailing=False):\n",
        "\n",
        "        self.buy_price = buy_price\n",
        "        self.sell_price = None\n",
        "        self.profit = None\n",
        "\n",
        "        self.buy_index = buy_index\n",
        "        self.sell_index = None\n",
        "\n",
        "        self.profit_perc = profit_perc\n",
        "        self.stop_loss_perc = stop_loss_perc\n",
        "\n",
        "        self.is_closed = False\n",
        "\n",
        "        self.take_profit_val = None\n",
        "        self.take_stop_loss_val = None\n",
        "        self.is_trailing = is_trailing\n",
        "\n",
        "        self.update()\n",
        "\n",
        "    def update(self, curr_candle=None):\n",
        "        if curr_candle is None:\n",
        "            self.take_profit_val = self.buy_price * (1 + self.profit_perc)\n",
        "            self.take_stop_loss_val = self.buy_price * (1 - self.stop_loss_perc)\n",
        "        else:\n",
        "            self.take_profit_val = max(self.take_profit_val, curr_candle.open * (1 + self.profit_perc))\n",
        "            self.take_stop_loss_val = max(self.take_stop_loss_val, curr_candle.open * (1 - self.stop_loss_perc))\n",
        "\n",
        "    def try_to_close(self, curr_candle):\n",
        "        if self.is_closed:\n",
        "            return False\n",
        "\n",
        "        if curr_candle.low < self.take_stop_loss_val:\n",
        "            self.close_trade(self.take_stop_loss_val, curr_candle.index)\n",
        "            return True\n",
        "        elif curr_candle.high > self.take_profit_val:\n",
        "            self.close_trade(self.take_profit_val, curr_candle.index)\n",
        "            return True\n",
        "\n",
        "        if self.is_trailing:\n",
        "            self.update(curr_candle)\n",
        "\n",
        "        return False\n",
        "\n",
        "\n",
        "    def close_trade(self, sell_price, sell_index):\n",
        "        self.sell_price = sell_price\n",
        "        self.sell_index = sell_index\n",
        "        self.profit = self.sell_price - self.buy_price\n",
        "\n",
        "        self.is_closed = True\n",
        "\n",
        "\n",
        "class BaseStrategy:\n",
        "    def __init__(self, cash):\n",
        "        self.all_trades = []\n",
        "        self.cash = cash\n",
        "        self.init_cash = cash\n",
        "        # For buy and hold calculation\n",
        "        self.init_buy_price = None\n",
        "        self.buy_hold_cash = None\n",
        "        self.final_buy_price = None\n",
        "\n",
        "        self.final_stats = None\n",
        "        self.is_trailing = False\n",
        "\n",
        "\n",
        "    def buy(self, buy_price, buy_index, profit_perc, stop_loss_perc):\n",
        "        if buy_price > self.cash:\n",
        "            return\n",
        "\n",
        "        new_trade = Trade(buy_price, buy_index, profit_perc, stop_loss_perc, self.is_trailing)\n",
        "        self.all_trades.append(new_trade)\n",
        "        self.cash -= buy_price\n",
        "\n",
        "    def _update_buy_hold_stats(self, curr_candle):\n",
        "        if not self.init_buy_price:\n",
        "            self.init_buy_price = curr_candle.open\n",
        "            self.buy_hold_cash = self.cash - self.init_buy_price\n",
        "\n",
        "        self.final_buy_price = curr_candle.close\n",
        "\n",
        "\n",
        "    def run(self, curr_candle, row=None):\n",
        "        self._update_buy_hold_stats(curr_candle)\n",
        "\n",
        "        #raise ValueError(\"Must be implemented by other strategies\")\n",
        "\n",
        "    def force_close(self, curr_candle, row=None):\n",
        "        for tr in self.all_trades:\n",
        "            if not tr.is_closed:\n",
        "                tr.close_trade(sell_price=curr_candle.close, sell_index=curr_candle.index)\n",
        "\n",
        "\n",
        "    def get_stats(self):\n",
        "        closed_trades = [tr for tr in self.all_trades if tr.is_closed]\n",
        "        num_trades = len(closed_trades)\n",
        "        num_wins = len([tr for tr in closed_trades if  tr.profit > 0])\n",
        "        total_profit = sum([tr.profit for tr in closed_trades])\n",
        "        if num_trades > 0:\n",
        "            win_rate=(num_wins/num_trades) * 100.0\n",
        "        else:\n",
        "            win_rate = 0.0\n",
        "\n",
        "        perc_return = total_profit*100.0/ self.init_cash\n",
        "        perc_buy_hold_return = ((self.final_buy_price + self.buy_hold_cash) - self.init_cash)*100.0 / self.init_cash\n",
        "\n",
        "\n",
        "        self.final_stats = Stats(\n",
        "            num_trades=num_trades,\n",
        "            num_wins=num_wins,\n",
        "            num_losses=(num_trades - num_wins),\n",
        "            win_rate=round(win_rate, 3),\n",
        "            total_profit=total_profit,\n",
        "            perc_return= round(perc_return, 3),\n",
        "            initial_cash=self.init_cash,\n",
        "            perc_buy_hold_return=round(perc_buy_hold_return, 3)\n",
        "        )\n",
        "\n",
        "\n",
        "\n",
        "class RandomStrategy(BaseStrategy):\n",
        "    def __init__(self, cash, is_trailing=False):\n",
        "        super().__init__(cash)\n",
        "        self.is_trailing = is_trailing\n",
        "\n",
        "    def run(self, curr_candle, row):\n",
        "        super().run(curr_candle, row)\n",
        "\n",
        "        for tr in self.all_trades:\n",
        "            close_curr = tr.try_to_close(curr_candle)\n",
        "            if close_curr:\n",
        "                self.cash += tr.sell_price\n",
        "\n",
        "        curr_rv = self._get_random_num(state=curr_candle.index)\n",
        "        if curr_rv:\n",
        "            self.buy(\n",
        "                buy_price = curr_candle.open,\n",
        "                buy_index=curr_candle.index,\n",
        "                profit_perc = 0.01,\n",
        "                stop_loss_perc = 0.01,\n",
        "            )\n",
        "\n",
        "    def _get_random_num(self, prop=0.5, state=42):\n",
        "        this_rv = bernoulli.rvs(prop, loc=0, size=1, random_state = state)[0]\n",
        "        if this_rv == 1:\n",
        "            return True\n",
        "        else:\n",
        "            return False\n",
        "\n",
        "\n",
        "class RandomSMAStrategy(BaseStrategy):\n",
        "    def __init__(self, cash, profit_perc=0.01, stop_loss_perc=0.01, is_trailing=False):\n",
        "        super().__init__(cash)\n",
        "        self.profit_perc = profit_perc\n",
        "        self.stop_loss_perc = stop_loss_perc\n",
        "        self.is_trailing = is_trailing\n",
        "\n",
        "    def run(self, curr_candle, row):\n",
        "        super().run(curr_candle, row)\n",
        "\n",
        "        for tr in self.all_trades:\n",
        "            close_curr = tr.try_to_close(curr_candle)\n",
        "            if close_curr:\n",
        "                self.cash += tr.sell_price\n",
        "\n",
        "        curr_rv = self._get_random_num(state=curr_candle.index)\n",
        "        above_sma = curr_candle.high > row['sma']\n",
        "        if curr_rv and above_sma:\n",
        "            self.buy(\n",
        "                buy_price = curr_candle.open,\n",
        "                buy_index=curr_candle.index,\n",
        "                profit_perc = self.profit_perc,\n",
        "                stop_loss_perc = self.stop_loss_perc,\n",
        "            )\n",
        "\n",
        "    def _get_random_num(self, prop=0.5, state=42):\n",
        "        this_rv = bernoulli.rvs(prop, loc=0, size=1, random_state = state)[0]\n",
        "        if this_rv == 1:\n",
        "            return True\n",
        "        else:\n",
        "            return False\n",
        "\n",
        "\n",
        "\n",
        "\n",
        "\n",
        "\n",
        "def candlestick_ax(t, o, h, l, c):\n",
        "    t_index = list(range(len(t)))\n",
        "\n",
        "    fig = plt.figure(figsize=(12,8))\n",
        "    ax = fig.add_subplot(111)\n",
        "\n",
        "    color = [\"green\" if close_price > open_price else \"red\" for close_price, open_price in zip(c, o)]\n",
        "    ax.bar(x=t_index, height=h-l, bottom=l, width=0.1, color=color)\n",
        "    ax.bar(x=t_index, height=np.abs(o-c), bottom=np.min((o,c), axis=0), width=0.6, color=color)\n",
        "\n",
        "\n",
        "    t_loc = t_index[::72]\n",
        "    #if type(t[0]) == datetime or type(t[0]) == pd._libs.tslibs.timestamps.Timestamp:\n",
        "    #    label_loc = [datetime.strftime(x, '%H-%M') for x in t[::12]]\n",
        "    label_loc = [x[:10] for x in t[::72]]\n",
        "    ax.set_xticks(ticks=t_loc, labels=label_loc, rotation=45);\n",
        "\n",
        "    return ax\n",
        "\n",
        "\n",
        "class BackTest:\n",
        "    def __init__(self, df, strategy):\n",
        "        self.df = df\n",
        "        self.strategy = strategy\n",
        "\n",
        "    def run_test(self):\n",
        "        for index, row in self.df.iterrows():\n",
        "            curr_candle = Candle(open=row['Open'], close=row['Close'], high=row['High'], low=row['Low'], index=row['time_index'])\n",
        "            self.strategy.run(curr_candle, row)\n",
        "        self.strategy.force_close(curr_candle, row)\n",
        "\n",
        "    def show_stats(self, verbose=True):\n",
        "        self.strategy.get_stats()\n",
        "        if verbose:\n",
        "            print(self.strategy.final_stats)\n",
        "\n",
        "\n",
        "    def visualize(self, verbose=False):\n",
        "        buy_list =[\n",
        "            {'buy_time': tr.buy_index, 'sell_time': tr.sell_index, 'buy_price': tr.buy_price, 'sell_price': tr.sell_price,\n",
        "             'profit': tr.profit}\n",
        "            for tr in self.strategy.all_trades\n",
        "        ]\n",
        "        buy_sell_df = pd.DataFrame(buy_list)\n",
        "        buy_sell_loss_df = buy_sell_df.query(\"profit<0\")\n",
        "        if verbose:\n",
        "            print(buy_sell_df)\n",
        "\n",
        "\n",
        "        _ax = candlestick_ax(t=self.df['time_str'], o=self.df['Open'], h=self.df['High'], l=self.df['Low'], c=self.df['Close'])\n",
        "        _ax.plot(buy_sell_df['buy_time'], buy_sell_df['buy_price'], marker=\".\", markersize=40, color='g', alpha=0.3, linestyle=\"None\")\n",
        "        _ax.plot(buy_sell_df['sell_time'], buy_sell_df['sell_price'], marker=\".\", markersize=40, color='r', alpha=0.3, linestyle=\"None\")\n",
        "        _ax.plot(buy_sell_loss_df['sell_time'], buy_sell_loss_df['sell_price'], marker=\"x\", markersize=20, color='k', alpha=0.3, linestyle=\"None\")\n",
        "\n",
        "\n",
        "        return _ax\n",
        "\n",
        "\n",
        "class Optimizer:\n",
        "    def __init__(self, optim_strategy='GRID', num_runs=10):\n",
        "        if optim_strategy not in ['GRID', 'RANDOM']:\n",
        "            raise ValueError(f\"optim_strategy is {optim_strategy}, must be 'GRID' or 'RANDOM'\")\n",
        "        self.optim_strategy = optim_strategy\n",
        "\n",
        "        self.num_runs = num_runs # only for random\n",
        "        self.arg_list = []\n",
        "\n",
        "    def run_optim(self, fn, param_dict, verbose):\n",
        "        self.fn = fn\n",
        "        self.params = param_dict\n",
        "\n",
        "        self.grid = self._expand_param_list()\n",
        "\n",
        "        if self.optim_strategy == 'RANDOM':\n",
        "            self.grid = random.sample(self.grid, self.num_runs)\n",
        "\n",
        "        best_param = None\n",
        "        best_val = -float(\"inf\")\n",
        "        total_iter = len(self.grid)\n",
        "\n",
        "        for counter, elem in enumerate(self.grid):\n",
        "            res = self.fn(**elem)\n",
        "            if verbose and counter%5 == 0:\n",
        "                print(f\"Iteration {counter} / {total_iter}\")\n",
        "            if res > best_val:\n",
        "                best_val = res\n",
        "                best_param = elem\n",
        "\n",
        "        return best_param\n",
        "\n",
        "    def _expand_param_list(self):\n",
        "        return [dict(zip(self.params.keys(), values)) for values in product(*self.params.values())]\n",
        "\n",
        "\n",
        "\n"
      ],
      "metadata": {
        "id": "UGNM58JDQSF5"
      },
      "execution_count": null,
      "outputs": []
    },
    {
      "cell_type": "code",
      "source": [
        "from itertools import product\n",
        "\n",
        "# Parameter dictionary\n",
        "params = {'a': range(10), 'b': range(20), 'c': range(30)}\n",
        "\n",
        "# Create the grid\n",
        "grid = [dict(zip(params.keys(), values)) for values in product(*params.values())]\n",
        "\n",
        "grid[:5]  # Print the first 5 to check\n"
      ],
      "metadata": {
        "colab": {
          "base_uri": "https://localhost:8080/"
        },
        "id": "iKP2QAcPr1Tl",
        "outputId": "6fe4efd6-4e18-43b8-d6f6-6163da91b538"
      },
      "execution_count": null,
      "outputs": [
        {
          "output_type": "execute_result",
          "data": {
            "text/plain": [
              "[{'a': 0, 'b': 0, 'c': 0},\n",
              " {'a': 0, 'b': 0, 'c': 1},\n",
              " {'a': 0, 'b': 0, 'c': 2},\n",
              " {'a': 0, 'b': 0, 'c': 3},\n",
              " {'a': 0, 'b': 0, 'c': 4}]"
            ]
          },
          "metadata": {},
          "execution_count": 4
        }
      ]
    },
    {
      "cell_type": "markdown",
      "source": [
        "## Get the Data"
      ],
      "metadata": {
        "id": "mDUw2eChQbgb"
      }
    },
    {
      "cell_type": "code",
      "source": [
        "file_id = '1rsYMnumxTHPyMlPJy45puDV0m7Y0Chxi'\n",
        "csv_url = f'https://drive.google.com/uc?export=download&id={file_id}'\n",
        "\n",
        "price_df = pd.read_csv(csv_url, on_bad_lines='warn')"
      ],
      "metadata": {
        "id": "72H1LiK4QXDr"
      },
      "execution_count": null,
      "outputs": []
    },
    {
      "cell_type": "code",
      "source": [
        "len(price_df)"
      ],
      "metadata": {
        "colab": {
          "base_uri": "https://localhost:8080/"
        },
        "id": "ka0Xn3t9Qm7z",
        "outputId": "afa74766-4c7b-480c-d9fc-bfebd652e1a2"
      },
      "execution_count": null,
      "outputs": [
        {
          "output_type": "execute_result",
          "data": {
            "text/plain": [
              "8924"
            ]
          },
          "metadata": {},
          "execution_count": 42
        }
      ]
    },
    {
      "cell_type": "code",
      "source": [
        "price_df['time_index'] = price_df['loc_index']"
      ],
      "metadata": {
        "id": "3_Pnc-7iQpuJ"
      },
      "execution_count": null,
      "outputs": []
    },
    {
      "cell_type": "code",
      "source": [
        "price_df.head()"
      ],
      "metadata": {
        "colab": {
          "base_uri": "https://localhost:8080/",
          "height": 206
        },
        "id": "JTs4VhBqQrk9",
        "outputId": "b7e53b38-4a0d-41ca-ac76-850e9a6c1a79"
      },
      "execution_count": null,
      "outputs": [
        {
          "output_type": "execute_result",
          "data": {
            "text/plain": [
              "           Open          High           Low         Close    Volume  \\\n",
              "0  65944.328125  65960.328125  65914.765625  65960.328125         0   \n",
              "1  65979.828125  66002.625000  65979.828125  65999.710938         0   \n",
              "2  66006.867188  66109.023438  66006.867188  66055.750000  43724800   \n",
              "3  66045.406250  66045.406250  66007.835938  66007.835938         0   \n",
              "4  66046.625000  66046.625000  65999.812500  66005.453125         0   \n",
              "\n",
              "   Dividends  Stock Splits                       time time_str  loc_index  \\\n",
              "0        0.0           0.0  2024-07-24 00:00:00+00:00    00-00          0   \n",
              "1        0.0           0.0  2024-07-24 00:05:00+00:00    00-05          1   \n",
              "2        0.0           0.0  2024-07-24 00:10:00+00:00    00-10          2   \n",
              "3        0.0           0.0  2024-07-24 00:15:00+00:00    00-15          3   \n",
              "4        0.0           0.0  2024-07-24 00:20:00+00:00    00-20          4   \n",
              "\n",
              "      unix_time           Mid  time_index  \n",
              "0  1.721779e+09  65937.546875           0  \n",
              "1  1.721780e+09  65991.226562           1  \n",
              "2  1.721780e+09  66057.945312           2  \n",
              "3  1.721780e+09  66026.621094           3  \n",
              "4  1.721780e+09  66023.218750           4  "
            ],
            "text/html": [
              "\n",
              "  <div id=\"df-e4b5f359-03d2-47c2-a2a9-fa503c5036eb\" class=\"colab-df-container\">\n",
              "    <div>\n",
              "<style scoped>\n",
              "    .dataframe tbody tr th:only-of-type {\n",
              "        vertical-align: middle;\n",
              "    }\n",
              "\n",
              "    .dataframe tbody tr th {\n",
              "        vertical-align: top;\n",
              "    }\n",
              "\n",
              "    .dataframe thead th {\n",
              "        text-align: right;\n",
              "    }\n",
              "</style>\n",
              "<table border=\"1\" class=\"dataframe\">\n",
              "  <thead>\n",
              "    <tr style=\"text-align: right;\">\n",
              "      <th></th>\n",
              "      <th>Open</th>\n",
              "      <th>High</th>\n",
              "      <th>Low</th>\n",
              "      <th>Close</th>\n",
              "      <th>Volume</th>\n",
              "      <th>Dividends</th>\n",
              "      <th>Stock Splits</th>\n",
              "      <th>time</th>\n",
              "      <th>time_str</th>\n",
              "      <th>loc_index</th>\n",
              "      <th>unix_time</th>\n",
              "      <th>Mid</th>\n",
              "      <th>time_index</th>\n",
              "    </tr>\n",
              "  </thead>\n",
              "  <tbody>\n",
              "    <tr>\n",
              "      <th>0</th>\n",
              "      <td>65944.328125</td>\n",
              "      <td>65960.328125</td>\n",
              "      <td>65914.765625</td>\n",
              "      <td>65960.328125</td>\n",
              "      <td>0</td>\n",
              "      <td>0.0</td>\n",
              "      <td>0.0</td>\n",
              "      <td>2024-07-24 00:00:00+00:00</td>\n",
              "      <td>00-00</td>\n",
              "      <td>0</td>\n",
              "      <td>1.721779e+09</td>\n",
              "      <td>65937.546875</td>\n",
              "      <td>0</td>\n",
              "    </tr>\n",
              "    <tr>\n",
              "      <th>1</th>\n",
              "      <td>65979.828125</td>\n",
              "      <td>66002.625000</td>\n",
              "      <td>65979.828125</td>\n",
              "      <td>65999.710938</td>\n",
              "      <td>0</td>\n",
              "      <td>0.0</td>\n",
              "      <td>0.0</td>\n",
              "      <td>2024-07-24 00:05:00+00:00</td>\n",
              "      <td>00-05</td>\n",
              "      <td>1</td>\n",
              "      <td>1.721780e+09</td>\n",
              "      <td>65991.226562</td>\n",
              "      <td>1</td>\n",
              "    </tr>\n",
              "    <tr>\n",
              "      <th>2</th>\n",
              "      <td>66006.867188</td>\n",
              "      <td>66109.023438</td>\n",
              "      <td>66006.867188</td>\n",
              "      <td>66055.750000</td>\n",
              "      <td>43724800</td>\n",
              "      <td>0.0</td>\n",
              "      <td>0.0</td>\n",
              "      <td>2024-07-24 00:10:00+00:00</td>\n",
              "      <td>00-10</td>\n",
              "      <td>2</td>\n",
              "      <td>1.721780e+09</td>\n",
              "      <td>66057.945312</td>\n",
              "      <td>2</td>\n",
              "    </tr>\n",
              "    <tr>\n",
              "      <th>3</th>\n",
              "      <td>66045.406250</td>\n",
              "      <td>66045.406250</td>\n",
              "      <td>66007.835938</td>\n",
              "      <td>66007.835938</td>\n",
              "      <td>0</td>\n",
              "      <td>0.0</td>\n",
              "      <td>0.0</td>\n",
              "      <td>2024-07-24 00:15:00+00:00</td>\n",
              "      <td>00-15</td>\n",
              "      <td>3</td>\n",
              "      <td>1.721780e+09</td>\n",
              "      <td>66026.621094</td>\n",
              "      <td>3</td>\n",
              "    </tr>\n",
              "    <tr>\n",
              "      <th>4</th>\n",
              "      <td>66046.625000</td>\n",
              "      <td>66046.625000</td>\n",
              "      <td>65999.812500</td>\n",
              "      <td>66005.453125</td>\n",
              "      <td>0</td>\n",
              "      <td>0.0</td>\n",
              "      <td>0.0</td>\n",
              "      <td>2024-07-24 00:20:00+00:00</td>\n",
              "      <td>00-20</td>\n",
              "      <td>4</td>\n",
              "      <td>1.721780e+09</td>\n",
              "      <td>66023.218750</td>\n",
              "      <td>4</td>\n",
              "    </tr>\n",
              "  </tbody>\n",
              "</table>\n",
              "</div>\n",
              "    <div class=\"colab-df-buttons\">\n",
              "\n",
              "  <div class=\"colab-df-container\">\n",
              "    <button class=\"colab-df-convert\" onclick=\"convertToInteractive('df-e4b5f359-03d2-47c2-a2a9-fa503c5036eb')\"\n",
              "            title=\"Convert this dataframe to an interactive table.\"\n",
              "            style=\"display:none;\">\n",
              "\n",
              "  <svg xmlns=\"http://www.w3.org/2000/svg\" height=\"24px\" viewBox=\"0 -960 960 960\">\n",
              "    <path d=\"M120-120v-720h720v720H120Zm60-500h600v-160H180v160Zm220 220h160v-160H400v160Zm0 220h160v-160H400v160ZM180-400h160v-160H180v160Zm440 0h160v-160H620v160ZM180-180h160v-160H180v160Zm440 0h160v-160H620v160Z\"/>\n",
              "  </svg>\n",
              "    </button>\n",
              "\n",
              "  <style>\n",
              "    .colab-df-container {\n",
              "      display:flex;\n",
              "      gap: 12px;\n",
              "    }\n",
              "\n",
              "    .colab-df-convert {\n",
              "      background-color: #E8F0FE;\n",
              "      border: none;\n",
              "      border-radius: 50%;\n",
              "      cursor: pointer;\n",
              "      display: none;\n",
              "      fill: #1967D2;\n",
              "      height: 32px;\n",
              "      padding: 0 0 0 0;\n",
              "      width: 32px;\n",
              "    }\n",
              "\n",
              "    .colab-df-convert:hover {\n",
              "      background-color: #E2EBFA;\n",
              "      box-shadow: 0px 1px 2px rgba(60, 64, 67, 0.3), 0px 1px 3px 1px rgba(60, 64, 67, 0.15);\n",
              "      fill: #174EA6;\n",
              "    }\n",
              "\n",
              "    .colab-df-buttons div {\n",
              "      margin-bottom: 4px;\n",
              "    }\n",
              "\n",
              "    [theme=dark] .colab-df-convert {\n",
              "      background-color: #3B4455;\n",
              "      fill: #D2E3FC;\n",
              "    }\n",
              "\n",
              "    [theme=dark] .colab-df-convert:hover {\n",
              "      background-color: #434B5C;\n",
              "      box-shadow: 0px 1px 3px 1px rgba(0, 0, 0, 0.15);\n",
              "      filter: drop-shadow(0px 1px 2px rgba(0, 0, 0, 0.3));\n",
              "      fill: #FFFFFF;\n",
              "    }\n",
              "  </style>\n",
              "\n",
              "    <script>\n",
              "      const buttonEl =\n",
              "        document.querySelector('#df-e4b5f359-03d2-47c2-a2a9-fa503c5036eb button.colab-df-convert');\n",
              "      buttonEl.style.display =\n",
              "        google.colab.kernel.accessAllowed ? 'block' : 'none';\n",
              "\n",
              "      async function convertToInteractive(key) {\n",
              "        const element = document.querySelector('#df-e4b5f359-03d2-47c2-a2a9-fa503c5036eb');\n",
              "        const dataTable =\n",
              "          await google.colab.kernel.invokeFunction('convertToInteractive',\n",
              "                                                    [key], {});\n",
              "        if (!dataTable) return;\n",
              "\n",
              "        const docLinkHtml = 'Like what you see? Visit the ' +\n",
              "          '<a target=\"_blank\" href=https://colab.research.google.com/notebooks/data_table.ipynb>data table notebook</a>'\n",
              "          + ' to learn more about interactive tables.';\n",
              "        element.innerHTML = '';\n",
              "        dataTable['output_type'] = 'display_data';\n",
              "        await google.colab.output.renderOutput(dataTable, element);\n",
              "        const docLink = document.createElement('div');\n",
              "        docLink.innerHTML = docLinkHtml;\n",
              "        element.appendChild(docLink);\n",
              "      }\n",
              "    </script>\n",
              "  </div>\n",
              "\n",
              "\n",
              "    <div id=\"df-9d965994-1466-4ce3-9677-06427208cca3\">\n",
              "      <button class=\"colab-df-quickchart\" onclick=\"quickchart('df-9d965994-1466-4ce3-9677-06427208cca3')\"\n",
              "                title=\"Suggest charts\"\n",
              "                style=\"display:none;\">\n",
              "\n",
              "<svg xmlns=\"http://www.w3.org/2000/svg\" height=\"24px\"viewBox=\"0 0 24 24\"\n",
              "     width=\"24px\">\n",
              "    <g>\n",
              "        <path d=\"M19 3H5c-1.1 0-2 .9-2 2v14c0 1.1.9 2 2 2h14c1.1 0 2-.9 2-2V5c0-1.1-.9-2-2-2zM9 17H7v-7h2v7zm4 0h-2V7h2v10zm4 0h-2v-4h2v4z\"/>\n",
              "    </g>\n",
              "</svg>\n",
              "      </button>\n",
              "\n",
              "<style>\n",
              "  .colab-df-quickchart {\n",
              "      --bg-color: #E8F0FE;\n",
              "      --fill-color: #1967D2;\n",
              "      --hover-bg-color: #E2EBFA;\n",
              "      --hover-fill-color: #174EA6;\n",
              "      --disabled-fill-color: #AAA;\n",
              "      --disabled-bg-color: #DDD;\n",
              "  }\n",
              "\n",
              "  [theme=dark] .colab-df-quickchart {\n",
              "      --bg-color: #3B4455;\n",
              "      --fill-color: #D2E3FC;\n",
              "      --hover-bg-color: #434B5C;\n",
              "      --hover-fill-color: #FFFFFF;\n",
              "      --disabled-bg-color: #3B4455;\n",
              "      --disabled-fill-color: #666;\n",
              "  }\n",
              "\n",
              "  .colab-df-quickchart {\n",
              "    background-color: var(--bg-color);\n",
              "    border: none;\n",
              "    border-radius: 50%;\n",
              "    cursor: pointer;\n",
              "    display: none;\n",
              "    fill: var(--fill-color);\n",
              "    height: 32px;\n",
              "    padding: 0;\n",
              "    width: 32px;\n",
              "  }\n",
              "\n",
              "  .colab-df-quickchart:hover {\n",
              "    background-color: var(--hover-bg-color);\n",
              "    box-shadow: 0 1px 2px rgba(60, 64, 67, 0.3), 0 1px 3px 1px rgba(60, 64, 67, 0.15);\n",
              "    fill: var(--button-hover-fill-color);\n",
              "  }\n",
              "\n",
              "  .colab-df-quickchart-complete:disabled,\n",
              "  .colab-df-quickchart-complete:disabled:hover {\n",
              "    background-color: var(--disabled-bg-color);\n",
              "    fill: var(--disabled-fill-color);\n",
              "    box-shadow: none;\n",
              "  }\n",
              "\n",
              "  .colab-df-spinner {\n",
              "    border: 2px solid var(--fill-color);\n",
              "    border-color: transparent;\n",
              "    border-bottom-color: var(--fill-color);\n",
              "    animation:\n",
              "      spin 1s steps(1) infinite;\n",
              "  }\n",
              "\n",
              "  @keyframes spin {\n",
              "    0% {\n",
              "      border-color: transparent;\n",
              "      border-bottom-color: var(--fill-color);\n",
              "      border-left-color: var(--fill-color);\n",
              "    }\n",
              "    20% {\n",
              "      border-color: transparent;\n",
              "      border-left-color: var(--fill-color);\n",
              "      border-top-color: var(--fill-color);\n",
              "    }\n",
              "    30% {\n",
              "      border-color: transparent;\n",
              "      border-left-color: var(--fill-color);\n",
              "      border-top-color: var(--fill-color);\n",
              "      border-right-color: var(--fill-color);\n",
              "    }\n",
              "    40% {\n",
              "      border-color: transparent;\n",
              "      border-right-color: var(--fill-color);\n",
              "      border-top-color: var(--fill-color);\n",
              "    }\n",
              "    60% {\n",
              "      border-color: transparent;\n",
              "      border-right-color: var(--fill-color);\n",
              "    }\n",
              "    80% {\n",
              "      border-color: transparent;\n",
              "      border-right-color: var(--fill-color);\n",
              "      border-bottom-color: var(--fill-color);\n",
              "    }\n",
              "    90% {\n",
              "      border-color: transparent;\n",
              "      border-bottom-color: var(--fill-color);\n",
              "    }\n",
              "  }\n",
              "</style>\n",
              "\n",
              "      <script>\n",
              "        async function quickchart(key) {\n",
              "          const quickchartButtonEl =\n",
              "            document.querySelector('#' + key + ' button');\n",
              "          quickchartButtonEl.disabled = true;  // To prevent multiple clicks.\n",
              "          quickchartButtonEl.classList.add('colab-df-spinner');\n",
              "          try {\n",
              "            const charts = await google.colab.kernel.invokeFunction(\n",
              "                'suggestCharts', [key], {});\n",
              "          } catch (error) {\n",
              "            console.error('Error during call to suggestCharts:', error);\n",
              "          }\n",
              "          quickchartButtonEl.classList.remove('colab-df-spinner');\n",
              "          quickchartButtonEl.classList.add('colab-df-quickchart-complete');\n",
              "        }\n",
              "        (() => {\n",
              "          let quickchartButtonEl =\n",
              "            document.querySelector('#df-9d965994-1466-4ce3-9677-06427208cca3 button');\n",
              "          quickchartButtonEl.style.display =\n",
              "            google.colab.kernel.accessAllowed ? 'block' : 'none';\n",
              "        })();\n",
              "      </script>\n",
              "    </div>\n",
              "\n",
              "    </div>\n",
              "  </div>\n"
            ],
            "application/vnd.google.colaboratory.intrinsic+json": {
              "type": "dataframe",
              "variable_name": "price_df",
              "summary": "{\n  \"name\": \"price_df\",\n  \"rows\": 8924,\n  \"fields\": [\n    {\n      \"column\": \"Open\",\n      \"properties\": {\n        \"dtype\": \"number\",\n        \"std\": 3871.8143173360963,\n        \"min\": 49679.59765625,\n        \"max\": 69932.0,\n        \"num_unique_values\": 8903,\n        \"samples\": [\n          59258.42578125,\n          60585.9765625,\n          60908.7265625\n        ],\n        \"semantic_type\": \"\",\n        \"description\": \"\"\n      }\n    },\n    {\n      \"column\": \"High\",\n      \"properties\": {\n        \"dtype\": \"number\",\n        \"std\": 3862.928869329447,\n        \"min\": 49959.62109375,\n        \"max\": 69973.3515625,\n        \"num_unique_values\": 8901,\n        \"samples\": [\n          60705.87890625,\n          66392.34375,\n          60052.265625\n        ],\n        \"semantic_type\": \"\",\n        \"description\": \"\"\n      }\n    },\n    {\n      \"column\": \"Low\",\n      \"properties\": {\n        \"dtype\": \"number\",\n        \"std\": 3881.0126872872074,\n        \"min\": 49578.88671875,\n        \"max\": 69820.484375,\n        \"num_unique_values\": 8900,\n        \"samples\": [\n          63110.43359375,\n          66322.3046875,\n          59919.82421875\n        ],\n        \"semantic_type\": \"\",\n        \"description\": \"\"\n      }\n    },\n    {\n      \"column\": \"Close\",\n      \"properties\": {\n        \"dtype\": \"number\",\n        \"std\": 3872.0003071154797,\n        \"min\": 49842.5234375,\n        \"max\": 69865.1171875,\n        \"num_unique_values\": 8908,\n        \"samples\": [\n          67049.4921875,\n          55868.1796875,\n          59226.7109375\n        ],\n        \"semantic_type\": \"\",\n        \"description\": \"\"\n      }\n    },\n    {\n      \"column\": \"Volume\",\n      \"properties\": {\n        \"dtype\": \"number\",\n        \"std\": 99213688,\n        \"min\": 0,\n        \"max\": 1734475776,\n        \"num_unique_values\": 4207,\n        \"samples\": [\n          134557696,\n          53999616,\n          25470976\n        ],\n        \"semantic_type\": \"\",\n        \"description\": \"\"\n      }\n    },\n    {\n      \"column\": \"Dividends\",\n      \"properties\": {\n        \"dtype\": \"number\",\n        \"std\": 0.0,\n        \"min\": 0.0,\n        \"max\": 0.0,\n        \"num_unique_values\": 1,\n        \"samples\": [\n          0.0\n        ],\n        \"semantic_type\": \"\",\n        \"description\": \"\"\n      }\n    },\n    {\n      \"column\": \"Stock Splits\",\n      \"properties\": {\n        \"dtype\": \"number\",\n        \"std\": 0.0,\n        \"min\": 0.0,\n        \"max\": 0.0,\n        \"num_unique_values\": 1,\n        \"samples\": [\n          0.0\n        ],\n        \"semantic_type\": \"\",\n        \"description\": \"\"\n      }\n    },\n    {\n      \"column\": \"time\",\n      \"properties\": {\n        \"dtype\": \"object\",\n        \"num_unique_values\": 8924,\n        \"samples\": [\n          \"2024-08-13 05:00:00+00:00\"\n        ],\n        \"semantic_type\": \"\",\n        \"description\": \"\"\n      }\n    },\n    {\n      \"column\": \"time_str\",\n      \"properties\": {\n        \"dtype\": \"category\",\n        \"num_unique_values\": 288,\n        \"samples\": [\n          \"03-45\"\n        ],\n        \"semantic_type\": \"\",\n        \"description\": \"\"\n      }\n    },\n    {\n      \"column\": \"loc_index\",\n      \"properties\": {\n        \"dtype\": \"number\",\n        \"std\": 2576,\n        \"min\": 0,\n        \"max\": 8923,\n        \"num_unique_values\": 8924,\n        \"samples\": [\n          5819\n        ],\n        \"semantic_type\": \"\",\n        \"description\": \"\"\n      }\n    },\n    {\n      \"column\": \"unix_time\",\n      \"properties\": {\n        \"dtype\": \"number\",\n        \"std\": 773348.7514289616,\n        \"min\": 1721779200.0,\n        \"max\": 1724457300.0,\n        \"num_unique_values\": 8924,\n        \"samples\": [\n          1723525200.0\n        ],\n        \"semantic_type\": \"\",\n        \"description\": \"\"\n      }\n    },\n    {\n      \"column\": \"Mid\",\n      \"properties\": {\n        \"dtype\": \"number\",\n        \"std\": 3871.722584579667,\n        \"min\": 49769.25390625,\n        \"max\": 69896.91796875,\n        \"num_unique_values\": 8918,\n        \"samples\": [\n          57947.595703125\n        ],\n        \"semantic_type\": \"\",\n        \"description\": \"\"\n      }\n    },\n    {\n      \"column\": \"time_index\",\n      \"properties\": {\n        \"dtype\": \"number\",\n        \"std\": 2576,\n        \"min\": 0,\n        \"max\": 8923,\n        \"num_unique_values\": 8924,\n        \"samples\": [\n          5819\n        ],\n        \"semantic_type\": \"\",\n        \"description\": \"\"\n      }\n    }\n  ]\n}"
            }
          },
          "metadata": {},
          "execution_count": 44
        }
      ]
    },
    {
      "cell_type": "code",
      "source": [
        "small_df = price_df.iloc[0:1000]"
      ],
      "metadata": {
        "id": "ofaZ7kz7Qtwu"
      },
      "execution_count": null,
      "outputs": []
    },
    {
      "cell_type": "markdown",
      "source": [
        "## Test the Random Strategy"
      ],
      "metadata": {
        "id": "u76ChoXDRJ_m"
      }
    },
    {
      "cell_type": "code",
      "source": [
        "strategy = RandomStrategy(cash=100000)"
      ],
      "metadata": {
        "id": "EZTziMl0QwH8"
      },
      "execution_count": null,
      "outputs": []
    },
    {
      "cell_type": "code",
      "source": [
        "this_backtest = BackTest(df=small_df, strategy=strategy)"
      ],
      "metadata": {
        "id": "O9FreHnEQxwa"
      },
      "execution_count": null,
      "outputs": []
    },
    {
      "cell_type": "code",
      "source": [
        "this_backtest.run_test()"
      ],
      "metadata": {
        "id": "vWy1aaknQ1ZO"
      },
      "execution_count": null,
      "outputs": []
    },
    {
      "cell_type": "code",
      "source": [
        "this_backtest.show_stats()"
      ],
      "metadata": {
        "colab": {
          "base_uri": "https://localhost:8080/"
        },
        "id": "pn5Muf98Q3tQ",
        "outputId": "7eb13fe3-56f5-4ef7-9b0f-5e9773901cee"
      },
      "execution_count": null,
      "outputs": [
        {
          "output_type": "stream",
          "name": "stdout",
          "text": [
            "\n",
            "        Number of Trades: 15\n",
            "        Win Rate: 66.667%\n",
            "        Return [%] : 2.804%\n",
            "        Buy and Hold Return [%]: 2.124%\n",
            "        Total Profit: $2804.4847265624994\n",
            "        Initial Capital: $100000\n",
            "        Winning Trades: 10\n",
            "        Losing Trades: 5\n",
            "        \n"
          ]
        }
      ]
    },
    {
      "cell_type": "code",
      "source": [
        "_ = this_backtest.visualize(True)"
      ],
      "metadata": {
        "colab": {
          "base_uri": "https://localhost:8080/",
          "height": 978
        },
        "id": "bCUC99VOQ5zK",
        "outputId": "3d24323f-f2b6-49cf-8790-7145e067dbc0"
      },
      "execution_count": null,
      "outputs": [
        {
          "output_type": "stream",
          "name": "stdout",
          "text": [
            "    buy_time  sell_time     buy_price    sell_price      profit\n",
            "0          0        160  65944.328125  66603.771406  659.443281\n",
            "1        160        226  66488.593750  65823.707812 -664.885938\n",
            "2        226        277  65847.343750  65188.870313 -658.473437\n",
            "3        279        301  65391.214844  64737.302695 -653.912148\n",
            "4        302        457  64346.632812  63703.166484 -643.466328\n",
            "5        458        461  63506.734375  64141.801719  635.067344\n",
            "6        463        470  64231.519531  64873.834727  642.315195\n",
            "7        471        544  64867.152344  65515.823867  648.671523\n",
            "8        547        580  65548.781250  66204.269062  655.487812\n",
            "9        580        605  66125.523438  66786.778672  661.255234\n",
            "10       607        613  66738.164062  67405.545703  667.381641\n",
            "11       613        744  67261.257812  67933.870391  672.612578\n",
            "12       745        750  67893.562500  67214.626875 -678.935625\n",
            "13       750        812  67248.609375  67921.095469  672.486094\n",
            "14       812        999  67879.085938  68068.523438  189.437500\n"
          ]
        },
        {
          "output_type": "display_data",
          "data": {
            "text/plain": [
              "<Figure size 1200x800 with 1 Axes>"
            ],
            "image/png": "[encoded data removed]"
          },
          "metadata": {}
        }
      ]
    },
    {
      "cell_type": "markdown",
      "source": [
        "## Random Entry with Trailing Stop Loss"
      ],
      "metadata": {
        "id": "1qBV6HDwj6w4"
      }
    },
    {
      "cell_type": "code",
      "source": [
        "strategy = RandomStrategy(cash=70000, is_trailing=True)"
      ],
      "metadata": {
        "id": "mAWff8vxj94g"
      },
      "execution_count": null,
      "outputs": []
    },
    {
      "cell_type": "code",
      "source": [
        "this_backtest = BackTest(df=small_df, strategy=strategy)"
      ],
      "metadata": {
        "id": "avcFih9ekCzy"
      },
      "execution_count": null,
      "outputs": []
    },
    {
      "cell_type": "code",
      "source": [
        "this_backtest.run_test()"
      ],
      "metadata": {
        "id": "MlxjMtZrkCqz"
      },
      "execution_count": null,
      "outputs": []
    },
    {
      "cell_type": "code",
      "source": [
        "this_backtest.show_stats()"
      ],
      "metadata": {
        "colab": {
          "base_uri": "https://localhost:8080/"
        },
        "id": "79gRaJp1kCjT",
        "outputId": "1ad0f1dd-ad97-48a6-e0f1-834284406214"
      },
      "execution_count": null,
      "outputs": [
        {
          "output_type": "stream",
          "name": "stdout",
          "text": [
            "\n",
            "        Number of Trades: 9\n",
            "        Win Rate: 44.444%\n",
            "        Return [%] : 4.33%\n",
            "        Buy and Hold Return [%]: 3.035%\n",
            "        Total Profit: $3031.195585937501\n",
            "        Initial Capital: $70000\n",
            "        Winning Trades: 4\n",
            "        Losing Trades: 5\n",
            "        \n"
          ]
        }
      ]
    },
    {
      "cell_type": "code",
      "source": [
        "_ = this_backtest.visualize(True)"
      ],
      "metadata": {
        "colab": {
          "base_uri": "https://localhost:8080/",
          "height": 874
        },
        "id": "tLnpNkrakCZr",
        "outputId": "777f663b-727d-4981-fb50-93b823f887aa"
      },
      "execution_count": null,
      "outputs": [
        {
          "output_type": "stream",
          "name": "stdout",
          "text": [
            "   buy_time  sell_time     buy_price    sell_price       profit\n",
            "0         0        185  65944.328125  66374.279297   429.951172\n",
            "1       186        224  66385.554688  66016.123594  -369.431094\n",
            "2       226        258  65847.343750  65406.183047  -441.160703\n",
            "3       259        301  65570.679688  65034.639141  -536.040547\n",
            "4       302        336  64346.632812  63945.031992  -401.600820\n",
            "5       337        455  63904.535156  63790.777617  -113.757539\n",
            "6       458        514  63506.734375  64469.275664   962.541289\n",
            "7       516        750  64551.195312  67231.975078  2680.779766\n",
            "8       750        999  67248.609375  68068.523438   819.914062\n"
          ]
        },
        {
          "output_type": "display_data",
          "data": {
            "text/plain": [
              "<Figure size 1200x800 with 1 Axes>"
            ],
            "image/png": "[encoded data removed]"
          },
          "metadata": {}
        }
      ]
    },
    {
      "cell_type": "markdown",
      "source": [
        "## Entry based on Moving Average (No Trailing Stop)"
      ],
      "metadata": {
        "id": "aFR5UZjMROYr"
      }
    },
    {
      "cell_type": "code",
      "source": [
        "small_df['sma'] = small_df['Mid'].rolling(50).mean()"
      ],
      "metadata": {
        "id": "7hWQ_maaTzzQ"
      },
      "execution_count": null,
      "outputs": []
    },
    {
      "cell_type": "code",
      "source": [
        "small_df.head()"
      ],
      "metadata": {
        "colab": {
          "base_uri": "https://localhost:8080/",
          "height": 206
        },
        "id": "lHWv-FHrUUbR",
        "outputId": "8a5de914-1e9f-493d-eb26-5a4ac00f1757"
      },
      "execution_count": null,
      "outputs": [
        {
          "output_type": "execute_result",
          "data": {
            "text/plain": [
              "           Open          High           Low         Close    Volume  \\\n",
              "0  65944.328125  65960.328125  65914.765625  65960.328125         0   \n",
              "1  65979.828125  66002.625000  65979.828125  65999.710938         0   \n",
              "2  66006.867188  66109.023438  66006.867188  66055.750000  43724800   \n",
              "3  66045.406250  66045.406250  66007.835938  66007.835938         0   \n",
              "4  66046.625000  66046.625000  65999.812500  66005.453125         0   \n",
              "\n",
              "   Dividends  Stock Splits                       time time_str  loc_index  \\\n",
              "0        0.0           0.0  2024-07-24 00:00:00+00:00    00-00          0   \n",
              "1        0.0           0.0  2024-07-24 00:05:00+00:00    00-05          1   \n",
              "2        0.0           0.0  2024-07-24 00:10:00+00:00    00-10          2   \n",
              "3        0.0           0.0  2024-07-24 00:15:00+00:00    00-15          3   \n",
              "4        0.0           0.0  2024-07-24 00:20:00+00:00    00-20          4   \n",
              "\n",
              "      unix_time           Mid  time_index  sma  \n",
              "0  1.721779e+09  65937.546875           0  NaN  \n",
              "1  1.721780e+09  65991.226562           1  NaN  \n",
              "2  1.721780e+09  66057.945312           2  NaN  \n",
              "3  1.721780e+09  66026.621094           3  NaN  \n",
              "4  1.721780e+09  66023.218750           4  NaN  "
            ],
            "text/html": [
              "\n",
              "  <div id=\"df-c1973bc1-a4be-4717-a562-23c19338ccaa\" class=\"colab-df-container\">\n",
              "    <div>\n",
              "<style scoped>\n",
              "    .dataframe tbody tr th:only-of-type {\n",
              "        vertical-align: middle;\n",
              "    }\n",
              "\n",
              "    .dataframe tbody tr th {\n",
              "        vertical-align: top;\n",
              "    }\n",
              "\n",
              "    .dataframe thead th {\n",
              "        text-align: right;\n",
              "    }\n",
              "</style>\n",
              "<table border=\"1\" class=\"dataframe\">\n",
              "  <thead>\n",
              "    <tr style=\"text-align: right;\">\n",
              "      <th></th>\n",
              "      <th>Open</th>\n",
              "      <th>High</th>\n",
              "      <th>Low</th>\n",
              "      <th>Close</th>\n",
              "      <th>Volume</th>\n",
              "      <th>Dividends</th>\n",
              "      <th>Stock Splits</th>\n",
              "      <th>time</th>\n",
              "      <th>time_str</th>\n",
              "      <th>loc_index</th>\n",
              "      <th>unix_time</th>\n",
              "      <th>Mid</th>\n",
              "      <th>time_index</th>\n",
              "      <th>sma</th>\n",
              "    </tr>\n",
              "  </thead>\n",
              "  <tbody>\n",
              "    <tr>\n",
              "      <th>0</th>\n",
              "      <td>65944.328125</td>\n",
              "      <td>65960.328125</td>\n",
              "      <td>65914.765625</td>\n",
              "      <td>65960.328125</td>\n",
              "      <td>0</td>\n",
              "      <td>0.0</td>\n",
              "      <td>0.0</td>\n",
              "      <td>2024-07-24 00:00:00+00:00</td>\n",
              "      <td>00-00</td>\n",
              "      <td>0</td>\n",
              "      <td>1.721779e+09</td>\n",
              "      <td>65937.546875</td>\n",
              "      <td>0</td>\n",
              "      <td>NaN</td>\n",
              "    </tr>\n",
              "    <tr>\n",
              "      <th>1</th>\n",
              "      <td>65979.828125</td>\n",
              "      <td>66002.625000</td>\n",
              "      <td>65979.828125</td>\n",
              "      <td>65999.710938</td>\n",
              "      <td>0</td>\n",
              "      <td>0.0</td>\n",
              "      <td>0.0</td>\n",
              "      <td>2024-07-24 00:05:00+00:00</td>\n",
              "      <td>00-05</td>\n",
              "      <td>1</td>\n",
              "      <td>1.721780e+09</td>\n",
              "      <td>65991.226562</td>\n",
              "      <td>1</td>\n",
              "      <td>NaN</td>\n",
              "    </tr>\n",
              "    <tr>\n",
              "      <th>2</th>\n",
              "      <td>66006.867188</td>\n",
              "      <td>66109.023438</td>\n",
              "      <td>66006.867188</td>\n",
              "      <td>66055.750000</td>\n",
              "      <td>43724800</td>\n",
              "      <td>0.0</td>\n",
              "      <td>0.0</td>\n",
              "      <td>2024-07-24 00:10:00+00:00</td>\n",
              "      <td>00-10</td>\n",
              "      <td>2</td>\n",
              "      <td>1.721780e+09</td>\n",
              "      <td>66057.945312</td>\n",
              "      <td>2</td>\n",
              "      <td>NaN</td>\n",
              "    </tr>\n",
              "    <tr>\n",
              "      <th>3</th>\n",
              "      <td>66045.406250</td>\n",
              "      <td>66045.406250</td>\n",
              "      <td>66007.835938</td>\n",
              "      <td>66007.835938</td>\n",
              "      <td>0</td>\n",
              "      <td>0.0</td>\n",
              "      <td>0.0</td>\n",
              "      <td>2024-07-24 00:15:00+00:00</td>\n",
              "      <td>00-15</td>\n",
              "      <td>3</td>\n",
              "      <td>1.721780e+09</td>\n",
              "      <td>66026.621094</td>\n",
              "      <td>3</td>\n",
              "      <td>NaN</td>\n",
              "    </tr>\n",
              "    <tr>\n",
              "      <th>4</th>\n",
              "      <td>66046.625000</td>\n",
              "      <td>66046.625000</td>\n",
              "      <td>65999.812500</td>\n",
              "      <td>66005.453125</td>\n",
              "      <td>0</td>\n",
              "      <td>0.0</td>\n",
              "      <td>0.0</td>\n",
              "      <td>2024-07-24 00:20:00+00:00</td>\n",
              "      <td>00-20</td>\n",
              "      <td>4</td>\n",
              "      <td>1.721780e+09</td>\n",
              "      <td>66023.218750</td>\n",
              "      <td>4</td>\n",
              "      <td>NaN</td>\n",
              "    </tr>\n",
              "  </tbody>\n",
              "</table>\n",
              "</div>\n",
              "    <div class=\"colab-df-buttons\">\n",
              "\n",
              "  <div class=\"colab-df-container\">\n",
              "    <button class=\"colab-df-convert\" onclick=\"convertToInteractive('df-c1973bc1-a4be-4717-a562-23c19338ccaa')\"\n",
              "            title=\"Convert this dataframe to an interactive table.\"\n",
              "            style=\"display:none;\">\n",
              "\n",
              "  <svg xmlns=\"http://www.w3.org/2000/svg\" height=\"24px\" viewBox=\"0 -960 960 960\">\n",
              "    <path d=\"M120-120v-720h720v720H120Zm60-500h600v-160H180v160Zm220 220h160v-160H400v160Zm0 220h160v-160H400v160ZM180-400h160v-160H180v160Zm440 0h160v-160H620v160ZM180-180h160v-160H180v160Zm440 0h160v-160H620v160Z\"/>\n",
              "  </svg>\n",
              "    </button>\n",
              "\n",
              "  <style>\n",
              "    .colab-df-container {\n",
              "      display:flex;\n",
              "      gap: 12px;\n",
              "    }\n",
              "\n",
              "    .colab-df-convert {\n",
              "      background-color: #E8F0FE;\n",
              "      border: none;\n",
              "      border-radius: 50%;\n",
              "      cursor: pointer;\n",
              "      display: none;\n",
              "      fill: #1967D2;\n",
              "      height: 32px;\n",
              "      padding: 0 0 0 0;\n",
              "      width: 32px;\n",
              "    }\n",
              "\n",
              "    .colab-df-convert:hover {\n",
              "      background-color: #E2EBFA;\n",
              "      box-shadow: 0px 1px 2px rgba(60, 64, 67, 0.3), 0px 1px 3px 1px rgba(60, 64, 67, 0.15);\n",
              "      fill: #174EA6;\n",
              "    }\n",
              "\n",
              "    .colab-df-buttons div {\n",
              "      margin-bottom: 4px;\n",
              "    }\n",
              "\n",
              "    [theme=dark] .colab-df-convert {\n",
              "      background-color: #3B4455;\n",
              "      fill: #D2E3FC;\n",
              "    }\n",
              "\n",
              "    [theme=dark] .colab-df-convert:hover {\n",
              "      background-color: #434B5C;\n",
              "      box-shadow: 0px 1px 3px 1px rgba(0, 0, 0, 0.15);\n",
              "      filter: drop-shadow(0px 1px 2px rgba(0, 0, 0, 0.3));\n",
              "      fill: #FFFFFF;\n",
              "    }\n",
              "  </style>\n",
              "\n",
              "    <script>\n",
              "      const buttonEl =\n",
              "        document.querySelector('#df-c1973bc1-a4be-4717-a562-23c19338ccaa button.colab-df-convert');\n",
              "      buttonEl.style.display =\n",
              "        google.colab.kernel.accessAllowed ? 'block' : 'none';\n",
              "\n",
              "      async function convertToInteractive(key) {\n",
              "        const element = document.querySelector('#df-c1973bc1-a4be-4717-a562-23c19338ccaa');\n",
              "        const dataTable =\n",
              "          await google.colab.kernel.invokeFunction('convertToInteractive',\n",
              "                                                    [key], {});\n",
              "        if (!dataTable) return;\n",
              "\n",
              "        const docLinkHtml = 'Like what you see? Visit the ' +\n",
              "          '<a target=\"_blank\" href=https://colab.research.google.com/notebooks/data_table.ipynb>data table notebook</a>'\n",
              "          + ' to learn more about interactive tables.';\n",
              "        element.innerHTML = '';\n",
              "        dataTable['output_type'] = 'display_data';\n",
              "        await google.colab.output.renderOutput(dataTable, element);\n",
              "        const docLink = document.createElement('div');\n",
              "        docLink.innerHTML = docLinkHtml;\n",
              "        element.appendChild(docLink);\n",
              "      }\n",
              "    </script>\n",
              "  </div>\n",
              "\n",
              "\n",
              "    <div id=\"df-f11e6810-6494-479b-9977-a0baff70a389\">\n",
              "      <button class=\"colab-df-quickchart\" onclick=\"quickchart('df-f11e6810-6494-479b-9977-a0baff70a389')\"\n",
              "                title=\"Suggest charts\"\n",
              "                style=\"display:none;\">\n",
              "\n",
              "<svg xmlns=\"http://www.w3.org/2000/svg\" height=\"24px\"viewBox=\"0 0 24 24\"\n",
              "     width=\"24px\">\n",
              "    <g>\n",
              "        <path d=\"M19 3H5c-1.1 0-2 .9-2 2v14c0 1.1.9 2 2 2h14c1.1 0 2-.9 2-2V5c0-1.1-.9-2-2-2zM9 17H7v-7h2v7zm4 0h-2V7h2v10zm4 0h-2v-4h2v4z\"/>\n",
              "    </g>\n",
              "</svg>\n",
              "      </button>\n",
              "\n",
              "<style>\n",
              "  .colab-df-quickchart {\n",
              "      --bg-color: #E8F0FE;\n",
              "      --fill-color: #1967D2;\n",
              "      --hover-bg-color: #E2EBFA;\n",
              "      --hover-fill-color: #174EA6;\n",
              "      --disabled-fill-color: #AAA;\n",
              "      --disabled-bg-color: #DDD;\n",
              "  }\n",
              "\n",
              "  [theme=dark] .colab-df-quickchart {\n",
              "      --bg-color: #3B4455;\n",
              "      --fill-color: #D2E3FC;\n",
              "      --hover-bg-color: #434B5C;\n",
              "      --hover-fill-color: #FFFFFF;\n",
              "      --disabled-bg-color: #3B4455;\n",
              "      --disabled-fill-color: #666;\n",
              "  }\n",
              "\n",
              "  .colab-df-quickchart {\n",
              "    background-color: var(--bg-color);\n",
              "    border: none;\n",
              "    border-radius: 50%;\n",
              "    cursor: pointer;\n",
              "    display: none;\n",
              "    fill: var(--fill-color);\n",
              "    height: 32px;\n",
              "    padding: 0;\n",
              "    width: 32px;\n",
              "  }\n",
              "\n",
              "  .colab-df-quickchart:hover {\n",
              "    background-color: var(--hover-bg-color);\n",
              "    box-shadow: 0 1px 2px rgba(60, 64, 67, 0.3), 0 1px 3px 1px rgba(60, 64, 67, 0.15);\n",
              "    fill: var(--button-hover-fill-color);\n",
              "  }\n",
              "\n",
              "  .colab-df-quickchart-complete:disabled,\n",
              "  .colab-df-quickchart-complete:disabled:hover {\n",
              "    background-color: var(--disabled-bg-color);\n",
              "    fill: var(--disabled-fill-color);\n",
              "    box-shadow: none;\n",
              "  }\n",
              "\n",
              "  .colab-df-spinner {\n",
              "    border: 2px solid var(--fill-color);\n",
              "    border-color: transparent;\n",
              "    border-bottom-color: var(--fill-color);\n",
              "    animation:\n",
              "      spin 1s steps(1) infinite;\n",
              "  }\n",
              "\n",
              "  @keyframes spin {\n",
              "    0% {\n",
              "      border-color: transparent;\n",
              "      border-bottom-color: var(--fill-color);\n",
              "      border-left-color: var(--fill-color);\n",
              "    }\n",
              "    20% {\n",
              "      border-color: transparent;\n",
              "      border-left-color: var(--fill-color);\n",
              "      border-top-color: var(--fill-color);\n",
              "    }\n",
              "    30% {\n",
              "      border-color: transparent;\n",
              "      border-left-color: var(--fill-color);\n",
              "      border-top-color: var(--fill-color);\n",
              "      border-right-color: var(--fill-color);\n",
              "    }\n",
              "    40% {\n",
              "      border-color: transparent;\n",
              "      border-right-color: var(--fill-color);\n",
              "      border-top-color: var(--fill-color);\n",
              "    }\n",
              "    60% {\n",
              "      border-color: transparent;\n",
              "      border-right-color: var(--fill-color);\n",
              "    }\n",
              "    80% {\n",
              "      border-color: transparent;\n",
              "      border-right-color: var(--fill-color);\n",
              "      border-bottom-color: var(--fill-color);\n",
              "    }\n",
              "    90% {\n",
              "      border-color: transparent;\n",
              "      border-bottom-color: var(--fill-color);\n",
              "    }\n",
              "  }\n",
              "</style>\n",
              "\n",
              "      <script>\n",
              "        async function quickchart(key) {\n",
              "          const quickchartButtonEl =\n",
              "            document.querySelector('#' + key + ' button');\n",
              "          quickchartButtonEl.disabled = true;  // To prevent multiple clicks.\n",
              "          quickchartButtonEl.classList.add('colab-df-spinner');\n",
              "          try {\n",
              "            const charts = await google.colab.kernel.invokeFunction(\n",
              "                'suggestCharts', [key], {});\n",
              "          } catch (error) {\n",
              "            console.error('Error during call to suggestCharts:', error);\n",
              "          }\n",
              "          quickchartButtonEl.classList.remove('colab-df-spinner');\n",
              "          quickchartButtonEl.classList.add('colab-df-quickchart-complete');\n",
              "        }\n",
              "        (() => {\n",
              "          let quickchartButtonEl =\n",
              "            document.querySelector('#df-f11e6810-6494-479b-9977-a0baff70a389 button');\n",
              "          quickchartButtonEl.style.display =\n",
              "            google.colab.kernel.accessAllowed ? 'block' : 'none';\n",
              "        })();\n",
              "      </script>\n",
              "    </div>\n",
              "\n",
              "    </div>\n",
              "  </div>\n"
            ],
            "application/vnd.google.colaboratory.intrinsic+json": {
              "type": "dataframe",
              "variable_name": "small_df",
              "summary": "{\n  \"name\": \"small_df\",\n  \"rows\": 1000,\n  \"fields\": [\n    {\n      \"column\": \"Open\",\n      \"properties\": {\n        \"dtype\": \"number\",\n        \"std\": 1305.7406286539358,\n        \"min\": 63506.734375,\n        \"max\": 68264.6875,\n        \"num_unique_values\": 997,\n        \"samples\": [\n          64024.49609375,\n          67531.125,\n          66553.71875\n        ],\n        \"semantic_type\": \"\",\n        \"description\": \"\"\n      }\n    },\n    {\n      \"column\": \"High\",\n      \"properties\": {\n        \"dtype\": \"number\",\n        \"std\": 1299.6728438289942,\n        \"min\": 63579.6484375,\n        \"max\": 68287.7578125,\n        \"num_unique_values\": 1000,\n        \"samples\": [\n          64981.6875,\n          67398.4453125,\n          67634.8515625\n        ],\n        \"semantic_type\": \"\",\n        \"description\": \"\"\n      }\n    },\n    {\n      \"column\": \"Low\",\n      \"properties\": {\n        \"dtype\": \"number\",\n        \"std\": 1312.4994682897795,\n        \"min\": 63489.24609375,\n        \"max\": 68238.765625,\n        \"num_unique_values\": 999,\n        \"samples\": [\n          63995.83984375,\n          67408.421875,\n          66508.4453125\n        ],\n        \"semantic_type\": \"\",\n        \"description\": \"\"\n      }\n    },\n    {\n      \"column\": \"Close\",\n      \"properties\": {\n        \"dtype\": \"number\",\n        \"std\": 1306.9540542093157,\n        \"min\": 63508.58203125,\n        \"max\": 68278.1328125,\n        \"num_unique_values\": 1000,\n        \"samples\": [\n          64952.20703125,\n          67395.953125,\n          67503.296875\n        ],\n        \"semantic_type\": \"\",\n        \"description\": \"\"\n      }\n    },\n    {\n      \"column\": \"Volume\",\n      \"properties\": {\n        \"dtype\": \"number\",\n        \"std\": 50102668,\n        \"min\": 0,\n        \"max\": 770478080,\n        \"num_unique_values\": 412,\n        \"samples\": [\n          31846400,\n          87504896,\n          235114496\n        ],\n        \"semantic_type\": \"\",\n        \"description\": \"\"\n      }\n    },\n    {\n      \"column\": \"Dividends\",\n      \"properties\": {\n        \"dtype\": \"number\",\n        \"std\": 0.0,\n        \"min\": 0.0,\n        \"max\": 0.0,\n        \"num_unique_values\": 1,\n        \"samples\": [\n          0.0\n        ],\n        \"semantic_type\": \"\",\n        \"description\": \"\"\n      }\n    },\n    {\n      \"column\": \"Stock Splits\",\n      \"properties\": {\n        \"dtype\": \"number\",\n        \"std\": 0.0,\n        \"min\": 0.0,\n        \"max\": 0.0,\n        \"num_unique_values\": 1,\n        \"samples\": [\n          0.0\n        ],\n        \"semantic_type\": \"\",\n        \"description\": \"\"\n      }\n    },\n    {\n      \"column\": \"time\",\n      \"properties\": {\n        \"dtype\": \"object\",\n        \"num_unique_values\": 1000,\n        \"samples\": [\n          \"2024-07-25 19:25:00+00:00\"\n        ],\n        \"semantic_type\": \"\",\n        \"description\": \"\"\n      }\n    },\n    {\n      \"column\": \"time_str\",\n      \"properties\": {\n        \"dtype\": \"category\",\n        \"num_unique_values\": 288,\n        \"samples\": [\n          \"03-45\"\n        ],\n        \"semantic_type\": \"\",\n        \"description\": \"\"\n      }\n    },\n    {\n      \"column\": \"loc_index\",\n      \"properties\": {\n        \"dtype\": \"number\",\n        \"std\": 288,\n        \"min\": 0,\n        \"max\": 999,\n        \"num_unique_values\": 1000,\n        \"samples\": [\n          521\n        ],\n        \"semantic_type\": \"\",\n        \"description\": \"\"\n      }\n    },\n    {\n      \"column\": \"unix_time\",\n      \"properties\": {\n        \"dtype\": \"number\",\n        \"std\": 86645.83082872482,\n        \"min\": 1721779200.0,\n        \"max\": 1722078900.0,\n        \"num_unique_values\": 1000,\n        \"samples\": [\n          1721935500.0\n        ],\n        \"semantic_type\": \"\",\n        \"description\": \"\"\n      }\n    },\n    {\n      \"column\": \"Mid\",\n      \"properties\": {\n        \"dtype\": \"number\",\n        \"std\": 1305.782589339237,\n        \"min\": 63534.447265625,\n        \"max\": 68253.59375,\n        \"num_unique_values\": 1000,\n        \"samples\": [\n          64920.345703125\n        ],\n        \"semantic_type\": \"\",\n        \"description\": \"\"\n      }\n    },\n    {\n      \"column\": \"time_index\",\n      \"properties\": {\n        \"dtype\": \"number\",\n        \"std\": 288,\n        \"min\": 0,\n        \"max\": 999,\n        \"num_unique_values\": 1000,\n        \"samples\": [\n          521\n        ],\n        \"semantic_type\": \"\",\n        \"description\": \"\"\n      }\n    },\n    {\n      \"column\": \"sma\",\n      \"properties\": {\n        \"dtype\": \"number\",\n        \"std\": 1281.3476581380783,\n        \"min\": 64079.63734375,\n        \"max\": 68128.0975,\n        \"num_unique_values\": 951,\n        \"samples\": [\n          66173.15359375\n        ],\n        \"semantic_type\": \"\",\n        \"description\": \"\"\n      }\n    }\n  ]\n}"
            }
          },
          "metadata": {},
          "execution_count": 72
        }
      ]
    },
    {
      "cell_type": "code",
      "source": [
        "# lets first visualize how the moving average is going to look like\n",
        "_ax = candlestick_ax(t=small_df['time_str'], o=small_df['Open'], h=small_df['High'], l=small_df['Low'], c=small_df['Close'])\n",
        "_ax.plot(small_df['loc_index'], small_df['sma'], 'b-')"
      ],
      "metadata": {
        "colab": {
          "base_uri": "https://localhost:8080/",
          "height": 717
        },
        "id": "ryAStjxvQ8Ih",
        "outputId": "294d5da7-c50e-4456-f531-a01cda371b09"
      },
      "execution_count": null,
      "outputs": [
        {
          "output_type": "execute_result",
          "data": {
            "text/plain": [
              "[<matplotlib.lines.Line2D at 0x7ff6a3a20e10>]"
            ]
          },
          "metadata": {},
          "execution_count": 73
        },
        {
          "output_type": "display_data",
          "data": {
            "text/plain": [
              "<Figure size 1200x800 with 1 Axes>"
            ],
            "image/png": "[encoded data removed]"
          },
          "metadata": {}
        }
      ]
    },
    {
      "cell_type": "code",
      "source": [
        "strategy_2 = RandomSMAStrategy(cash=70000)"
      ],
      "metadata": {
        "id": "q04jgg2hTqjW"
      },
      "execution_count": null,
      "outputs": []
    },
    {
      "cell_type": "code",
      "source": [
        "this_backtest_2 = BackTest(df=small_df, strategy=strategy_2)"
      ],
      "metadata": {
        "id": "rmGX8BnLXIWF"
      },
      "execution_count": null,
      "outputs": []
    },
    {
      "cell_type": "code",
      "source": [
        "this_backtest_2.run_test()"
      ],
      "metadata": {
        "id": "6KkYjG44XbQk"
      },
      "execution_count": null,
      "outputs": []
    },
    {
      "cell_type": "code",
      "source": [
        "this_backtest_2.show_stats()"
      ],
      "metadata": {
        "colab": {
          "base_uri": "https://localhost:8080/"
        },
        "id": "IoKPnOIgX6hR",
        "outputId": "aef9307f-aa5c-47b8-9bf6-cb3665d5f04a"
      },
      "execution_count": null,
      "outputs": [
        {
          "output_type": "stream",
          "name": "stdout",
          "text": [
            "\n",
            "        Number of Trades: 13\n",
            "        Win Rate: 69.231%\n",
            "        Return [%] : 3.93%\n",
            "        Buy and Hold Return [%]: 3.035%\n",
            "        Total Profit: $2751.113085937497\n",
            "        Initial Capital: $70000\n",
            "        Winning Trades: 9\n",
            "        Losing Trades: 4\n",
            "        \n"
          ]
        }
      ]
    },
    {
      "cell_type": "code",
      "source": [
        "_ax2 = this_backtest_2.visualize(True)\n",
        "_ax2.plot(small_df['loc_index'], small_df['sma'], 'b-')"
      ],
      "metadata": {
        "colab": {
          "base_uri": "https://localhost:8080/",
          "height": 960
        },
        "id": "MnbwPz6HX9-w",
        "outputId": "51a8d88d-e353-4b66-b82e-0b244f06ebed"
      },
      "execution_count": null,
      "outputs": [
        {
          "output_type": "stream",
          "name": "stdout",
          "text": [
            "    buy_time  sell_time     buy_price    sell_price      profit\n",
            "0         51        160  65957.210938  66616.783047  659.572109\n",
            "1        160        226  66488.593750  65823.707812 -664.885938\n",
            "2        293        301  65574.585938  64918.840078 -655.745859\n",
            "3        352        457  64250.035156  63607.534805 -642.500352\n",
            "4        463        470  64231.519531  64873.834727  642.315195\n",
            "5        471        544  64867.152344  65515.823867  648.671523\n",
            "6        547        580  65548.781250  66204.269062  655.487812\n",
            "7        580        605  66125.523438  66786.778672  661.255234\n",
            "8        607        613  66738.164062  67405.545703  667.381641\n",
            "9        613        744  67261.257812  67933.870391  672.612578\n",
            "10       745        750  67893.562500  67214.626875 -678.935625\n",
            "11       756        813  67338.476562  68011.861328  673.384766\n",
            "12       813        999  67956.023438  68068.523438  112.500000\n"
          ]
        },
        {
          "output_type": "execute_result",
          "data": {
            "text/plain": [
              "[<matplotlib.lines.Line2D at 0x7ff6a18136d0>]"
            ]
          },
          "metadata": {},
          "execution_count": 78
        },
        {
          "output_type": "display_data",
          "data": {
            "text/plain": [
              "<Figure size 1200x800 with 1 Axes>"
            ],
            "image/png": "[encoded data removed]"
          },
          "metadata": {}
        }
      ]
    },
    {
      "cell_type": "markdown",
      "source": [
        "## Entry Based on Moving Average (with Trailing Stop)"
      ],
      "metadata": {
        "id": "k4OzeO6kkpfl"
      }
    },
    {
      "cell_type": "code",
      "source": [
        "strategy_21 = RandomSMAStrategy(cash=70000, is_trailing = True)\n",
        "this_backtest_21 = BackTest(df=small_df, strategy=strategy_21)\n",
        "this_backtest_21.run_test()\n",
        "this_backtest_21.show_stats()"
      ],
      "metadata": {
        "colab": {
          "base_uri": "https://localhost:8080/"
        },
        "id": "6H8wCSNUkuc4",
        "outputId": "9e1bf3e3-9592-4d9e-a8e8-594078595a1f"
      },
      "execution_count": null,
      "outputs": [
        {
          "output_type": "stream",
          "name": "stdout",
          "text": [
            "\n",
            "        Number of Trades: 7\n",
            "        Win Rate: 57.143%\n",
            "        Return [%] : 3.092%\n",
            "        Buy and Hold Return [%]: 3.035%\n",
            "        Total Profit: $2164.4702343750105\n",
            "        Initial Capital: $70000\n",
            "        Winning Trades: 4\n",
            "        Losing Trades: 3\n",
            "        \n"
          ]
        }
      ]
    },
    {
      "cell_type": "code",
      "source": [
        "_ax2 = this_backtest_21.visualize(True)\n",
        "_ax2.plot(small_df['loc_index'], small_df['sma'], 'b-')"
      ],
      "metadata": {
        "colab": {
          "base_uri": "https://localhost:8080/",
          "height": 856
        },
        "id": "R0zwARL7mL89",
        "outputId": "d011f172-6143-43d4-e671-85aaa6fe47bd"
      },
      "execution_count": null,
      "outputs": [
        {
          "output_type": "stream",
          "name": "stdout",
          "text": [
            "   buy_time  sell_time     buy_price    sell_price       profit\n",
            "0        51        185  65957.210938  66374.279297   417.068359\n",
            "1       209        224  66508.445312  66016.123594  -492.321719\n",
            "2       293        301  65574.585938  64932.792891  -641.793047\n",
            "3       352        455  64250.035156  63790.777617  -459.257539\n",
            "4       463        514  64231.519531  64469.275664   237.756133\n",
            "5       521        750  64859.003906  67231.975078  2372.971172\n",
            "6       756        999  67338.476562  68068.523438   730.046875\n"
          ]
        },
        {
          "output_type": "execute_result",
          "data": {
            "text/plain": [
              "[<matplotlib.lines.Line2D at 0x7ff69f681b90>]"
            ]
          },
          "metadata": {},
          "execution_count": 80
        },
        {
          "output_type": "display_data",
          "data": {
            "text/plain": [
              "<Figure size 1200x800 with 1 Axes>"
            ],
            "image/png": "[encoded data removed]"
          },
          "metadata": {}
        }
      ]
    },
    {
      "cell_type": "markdown",
      "source": [
        "# Try a Larger TimeFrame"
      ],
      "metadata": {
        "id": "OD-CEB_1ezQJ"
      }
    },
    {
      "cell_type": "code",
      "source": [
        "small_df2 = price_df.iloc[2000:7000]\n",
        "small_df2['sma'] = small_df2['Mid'].rolling(50).mean()"
      ],
      "metadata": {
        "id": "kCw9EES-YRMI"
      },
      "execution_count": null,
      "outputs": []
    },
    {
      "cell_type": "code",
      "source": [
        "strategy3 = RandomStrategy(cash=80000)\n",
        "this_backtest3 = BackTest(df=small_df2, strategy=strategy3)\n",
        "this_backtest3.run_test()\n",
        "this_backtest3.show_stats()"
      ],
      "metadata": {
        "colab": {
          "base_uri": "https://localhost:8080/"
        },
        "id": "5lNqz5-2e4nU",
        "outputId": "4dcf3acc-8099-4d11-ac8f-574c1d6e1e55"
      },
      "execution_count": null,
      "outputs": [
        {
          "output_type": "stream",
          "name": "stdout",
          "text": [
            "\n",
            "        Number of Trades: 200\n",
            "        Win Rate: 44.5%\n",
            "        Return [%] : -17.633%\n",
            "        Buy and Hold Return [%]: -8.804%\n",
            "        Total Profit: $-14106.730468750007\n",
            "        Initial Capital: $80000\n",
            "        Winning Trades: 89\n",
            "        Losing Trades: 111\n",
            "        \n"
          ]
        }
      ]
    },
    {
      "cell_type": "code",
      "source": [
        "strategy4 = RandomSMAStrategy(cash=80000)\n",
        "this_backtest4 = BackTest(df=small_df2, strategy=strategy4)\n",
        "this_backtest4.run_test()\n",
        "this_backtest4.show_stats()"
      ],
      "metadata": {
        "colab": {
          "base_uri": "https://localhost:8080/"
        },
        "id": "ULfS4kNNfII7",
        "outputId": "37f2da2c-817a-4136-bca4-a33f1486015d"
      },
      "execution_count": null,
      "outputs": [
        {
          "output_type": "stream",
          "name": "stdout",
          "text": [
            "\n",
            "        Number of Trades: 119\n",
            "        Win Rate: 48.739%\n",
            "        Return [%] : -3.202%\n",
            "        Buy and Hold Return [%]: -8.804%\n",
            "        Total Profit: $-2561.8374218749814\n",
            "        Initial Capital: $80000\n",
            "        Winning Trades: 58\n",
            "        Losing Trades: 61\n",
            "        \n"
          ]
        }
      ]
    },
    {
      "cell_type": "code",
      "source": [
        "strategy5 = RandomSMAStrategy(cash=80000, is_trailing=True)\n",
        "this_backtest5 = BackTest(df=small_df2, strategy=strategy5)\n",
        "this_backtest5.run_test()\n",
        "this_backtest5.show_stats()"
      ],
      "metadata": {
        "colab": {
          "base_uri": "https://localhost:8080/"
        },
        "id": "6nLxi8gjmdMg",
        "outputId": "ef4e59a2-2a0a-4829-e122-9f982a08e219"
      },
      "execution_count": null,
      "outputs": [
        {
          "output_type": "stream",
          "name": "stdout",
          "text": [
            "\n",
            "        Number of Trades: 103\n",
            "        Win Rate: 42.718%\n",
            "        Return [%] : 3.751%\n",
            "        Buy and Hold Return [%]: -8.804%\n",
            "        Total Profit: $3000.4278124999764\n",
            "        Initial Capital: $80000\n",
            "        Winning Trades: 44\n",
            "        Losing Trades: 59\n",
            "        \n"
          ]
        }
      ]
    },
    {
      "cell_type": "markdown",
      "source": [
        "## Optimize the Strategy"
      ],
      "metadata": {
        "id": "a7LjTOipwJmy"
      }
    },
    {
      "cell_type": "code",
      "source": [
        "def opt_fn(profit_perc, stop_loss_perc, sma_val):\n",
        "    small_df2 = price_df.iloc[0:2000]\n",
        "    small_df2['sma'] = small_df2['Mid'].rolling(sma_val).mean()\n",
        "    strategy44 = RandomSMAStrategy(cash=80000, profit_perc=profit_perc, stop_loss_perc=stop_loss_perc, is_trailing=True)\n",
        "    this_backtest44 = BackTest(df=small_df2, strategy=strategy44)\n",
        "    this_backtest44.run_test()\n",
        "    this_backtest44.show_stats(verbose=False)\n",
        "\n",
        "    return strategy44.final_stats.perc_return\n",
        "\n",
        "\n",
        "\n"
      ],
      "metadata": {
        "id": "egCjBqGbfZfz"
      },
      "execution_count": null,
      "outputs": []
    },
    {
      "cell_type": "code",
      "source": [
        "opt_fn(profit_perc=0.01, stop_loss_perc=0.01, sma_val=13)"
      ],
      "metadata": {
        "colab": {
          "base_uri": "https://localhost:8080/"
        },
        "id": "bKZwEKI9yzNI",
        "outputId": "c8fb897c-4334-4589-f950-cd1666111ad1"
      },
      "execution_count": null,
      "outputs": [
        {
          "output_type": "execute_result",
          "data": {
            "text/plain": [
              "3.181"
            ]
          },
          "metadata": {},
          "execution_count": 89
        }
      ]
    },
    {
      "cell_type": "code",
      "source": [
        "param_dict = {\n",
        "    'profit_perc': [0.001,0.005, 0.01, 0.015, 0.02, 0.025, 0.05],\n",
        "    'stop_loss_perc': [0.001, 0.005, 0.01, 0.015, 0.02, 0.025, 0.05],\n",
        "    'sma_val': [5, 14, 20, 33,50, 100, 150, 200, 250]\n",
        "}\n",
        "\n",
        "my_optim = Optimizer(optim_strategy='RANDOM', num_runs=50)\n",
        "best_params = my_optim.run_optim(fn=opt_fn, param_dict=param_dict, verbose=True)\n"
      ],
      "metadata": {
        "colab": {
          "base_uri": "https://localhost:8080/"
        },
        "id": "n8Esg7AJy5eo",
        "outputId": "44930fae-6ff5-491a-a520-cb4943c18b58"
      },
      "execution_count": null,
      "outputs": [
        {
          "output_type": "stream",
          "name": "stdout",
          "text": [
            "Iteration 0 / 50\n",
            "Iteration 5 / 50\n",
            "Iteration 10 / 50\n",
            "Iteration 15 / 50\n",
            "Iteration 20 / 50\n",
            "Iteration 25 / 50\n",
            "Iteration 30 / 50\n",
            "Iteration 35 / 50\n",
            "Iteration 40 / 50\n",
            "Iteration 45 / 50\n"
          ]
        }
      ]
    },
    {
      "cell_type": "code",
      "source": [
        "best_params"
      ],
      "metadata": {
        "colab": {
          "base_uri": "https://localhost:8080/"
        },
        "id": "ZvVZmoxI0TZk",
        "outputId": "3510ccc7-0b99-49aa-c1e8-49a49b841ef6"
      },
      "execution_count": null,
      "outputs": [
        {
          "output_type": "execute_result",
          "data": {
            "text/plain": [
              "{'profit_perc': 0.005, 'stop_loss_perc': 0.001, 'sma_val': 14}"
            ]
          },
          "metadata": {},
          "execution_count": 126
        }
      ]
    },
    {
      "cell_type": "code",
      "source": [],
      "metadata": {
        "id": "bS_sk7-HlFob"
      },
      "execution_count": null,
      "outputs": []
    },
    {
      "cell_type": "code",
      "source": [
        "small_df2 = price_df.iloc[2000:7000]\n",
        "small_df2['sma'] = small_df2['Mid'].rolling(14).mean()\n",
        "strategy6 = RandomSMAStrategy(cash=10000, profit_perc=0.005, stop_loss_perc=0.001, is_trailing=True)\n",
        "this_backtest6 = BackTest(df=small_df2, strategy=strategy6)\n",
        "this_backtest6.run_test()\n",
        "this_backtest6.show_stats()"
      ],
      "metadata": {
        "colab": {
          "base_uri": "https://localhost:8080/"
        },
        "id": "WAfOEXPN1M5E",
        "outputId": "6d68e8cc-a82d-4a57-b9dc-8f23fb1489fa"
      },
      "execution_count": null,
      "outputs": [
        {
          "output_type": "stream",
          "name": "stdout",
          "text": [
            "\n",
            "        Number of Trades: 0\n",
            "        Win Rate: 0.0%\n",
            "        Return [%] : 0.0%\n",
            "        Buy and Hold Return [%]: -70.433%\n",
            "        Total Profit: $0\n",
            "        Initial Capital: $10000\n",
            "        Winning Trades: 0\n",
            "        Losing Trades: 0\n",
            "        \n"
          ]
        }
      ]
    },
    {
      "cell_type": "code",
      "source": [],
      "metadata": {
        "id": "ZPEleC9J1cUs"
      },
      "execution_count": null,
      "outputs": []
    }
  ]
}